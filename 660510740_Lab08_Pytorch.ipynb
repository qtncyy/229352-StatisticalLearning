{
  "cells": [
    {
      "cell_type": "markdown",
      "metadata": {
        "id": "view-in-github",
        "colab_type": "text"
      },
      "source": [
        "<a href=\"https://colab.research.google.com/github/qtncyy/229352-StatisticalLearning/blob/main/660510740_Lab08_Pytorch.ipynb\" target=\"_parent\"><img src=\"https://colab.research.google.com/assets/colab-badge.svg\" alt=\"Open In Colab\"/></a>"
      ]
    },
    {
      "cell_type": "markdown",
      "metadata": {
        "id": "5TUs7KwCOW4P"
      },
      "source": [
        "### Statistical Learning for Data Science 2 (229352)\n",
        "#### Instructor: Donlapark Ponnoprat\n",
        "\n",
        "#### [Course website](https://donlapark.pages.dev/229352/)\n",
        "\n",
        "## Lab #8"
      ]
    },
    {
      "cell_type": "markdown",
      "metadata": {
        "id": "G-nQb7jGS3PJ"
      },
      "source": [
        "There are several deep learning frameworks in Python.\n",
        "\n",
        "<img src=\"https://upload.wikimedia.org/wikipedia/commons/thumb/c/c6/PyTorch_logo_black.svg/2560px-PyTorch_logo_black.svg.png\" width=\"100\"/>&nbsp;&nbsp;&nbsp;&nbsp;&nbsp;&nbsp;&nbsp;<img src=\"https://upload.wikimedia.org/wikipedia/commons/2/2d/Tensorflow_logo.svg\" width=\"40\"/><img src=\"https://assets-global.website-files.com/621e749a546b7592125f38ed/62277da165ed192adba475fc_JAX.jpg\" width=\"100\"/>\n",
        "\n",
        "In this Lab, we will use PyTorch"
      ]
    },
    {
      "cell_type": "code",
      "execution_count": 1,
      "metadata": {
        "id": "MzJSrt8CSv4p"
      },
      "outputs": [],
      "source": [
        "import numpy as np\n",
        "\n",
        "import torch"
      ]
    },
    {
      "cell_type": "markdown",
      "metadata": {
        "id": "QEsXce8XuwIW"
      },
      "source": [
        "# Tensor basics"
      ]
    },
    {
      "cell_type": "markdown",
      "metadata": {
        "id": "qr1d7mpfrQ-W"
      },
      "source": [
        "## Basic tensor creation"
      ]
    },
    {
      "cell_type": "markdown",
      "metadata": {
        "id": "zoo78UqZZBmo"
      },
      "source": [
        "### Creating a scalar (1D) tensor"
      ]
    },
    {
      "cell_type": "code",
      "execution_count": 2,
      "metadata": {
        "colab": {
          "base_uri": "https://localhost:8080/"
        },
        "id": "8QkirMVZUpfe",
        "outputId": "459e97c4-629f-471e-af84-e57f596e92ad"
      },
      "outputs": [
        {
          "output_type": "stream",
          "name": "stdout",
          "text": [
            "tensor(8)\n",
            "tensor(9)\n",
            "tensor(17)\n"
          ]
        }
      ],
      "source": [
        "a = torch.tensor(8)\n",
        "b = torch.tensor(9)\n",
        "print(a)\n",
        "print(b)\n",
        "print(a+b)"
      ]
    },
    {
      "cell_type": "markdown",
      "metadata": {
        "id": "Y2D_T5PPZI4L"
      },
      "source": [
        "### Convert a tensor to scalar"
      ]
    },
    {
      "cell_type": "code",
      "execution_count": 3,
      "metadata": {
        "colab": {
          "base_uri": "https://localhost:8080/"
        },
        "id": "BSkS98iYXVZI",
        "outputId": "ef2d246d-8942-4515-d8da-01b828ab8641"
      },
      "outputs": [
        {
          "output_type": "execute_result",
          "data": {
            "text/plain": [
              "8"
            ]
          },
          "metadata": {},
          "execution_count": 3
        }
      ],
      "source": [
        "a.item()"
      ]
    },
    {
      "cell_type": "markdown",
      "metadata": {
        "id": "wLUTVuu8ZPCV"
      },
      "source": [
        "### Creating 2D tensor"
      ]
    },
    {
      "cell_type": "code",
      "execution_count": 4,
      "metadata": {
        "colab": {
          "base_uri": "https://localhost:8080/"
        },
        "id": "ST-ZldGXX9SY",
        "outputId": "30e64cd8-aca1-4bbd-c34c-ec596808c476"
      },
      "outputs": [
        {
          "output_type": "stream",
          "name": "stdout",
          "text": [
            "tensor([[1, 2],\n",
            "        [3, 4]])\n"
          ]
        }
      ],
      "source": [
        "A = torch.tensor([[1, 2], [3, 4]])\n",
        "print(A)"
      ]
    },
    {
      "cell_type": "markdown",
      "metadata": {
        "id": "RL1rmhg8rVgY"
      },
      "source": [
        "## Tensor and Numpy"
      ]
    },
    {
      "cell_type": "markdown",
      "metadata": {
        "id": "1LSTMBVNZjAu"
      },
      "source": [
        "### Convert from tensor to numpy array"
      ]
    },
    {
      "cell_type": "code",
      "execution_count": 5,
      "metadata": {
        "colab": {
          "base_uri": "https://localhost:8080/"
        },
        "id": "I4LkkrQdYbLq",
        "outputId": "be039857-3986-4071-d3e0-36b9890968d1"
      },
      "outputs": [
        {
          "output_type": "execute_result",
          "data": {
            "text/plain": [
              "array([[1, 2],\n",
              "       [3, 4]])"
            ]
          },
          "metadata": {},
          "execution_count": 5
        }
      ],
      "source": [
        "A.numpy()"
      ]
    },
    {
      "cell_type": "markdown",
      "metadata": {
        "id": "xcFexnBYZn73"
      },
      "source": [
        "### Convert from numpy array to tensor"
      ]
    },
    {
      "cell_type": "code",
      "execution_count": 6,
      "metadata": {
        "colab": {
          "base_uri": "https://localhost:8080/"
        },
        "id": "lDRLWyGkZmjM",
        "outputId": "2e036251-64f9-4b34-b5ac-cf10baa1794a"
      },
      "outputs": [
        {
          "output_type": "stream",
          "name": "stdout",
          "text": [
            "tensor([[1, 2],\n",
            "        [3, 4]])\n"
          ]
        }
      ],
      "source": [
        "B = np.array([[1, 2], [3, 4]])\n",
        "\n",
        "C = torch.from_numpy(B)\n",
        "print(C)"
      ]
    },
    {
      "cell_type": "markdown",
      "metadata": {
        "id": "5bLYQUdDb47c"
      },
      "source": [
        "## Basic operations"
      ]
    },
    {
      "cell_type": "code",
      "execution_count": 7,
      "metadata": {
        "colab": {
          "base_uri": "https://localhost:8080/"
        },
        "id": "O1ZL-UgraQZG",
        "outputId": "68f58544-97be-4109-eaee-6bd45ba86610"
      },
      "outputs": [
        {
          "output_type": "stream",
          "name": "stdout",
          "text": [
            "tensor([[2, 4],\n",
            "        [6, 8]])\n",
            "tensor([[-9, -8],\n",
            "        [-7, -6]])\n"
          ]
        }
      ],
      "source": [
        "D = 2*C\n",
        "\n",
        "E = C - 10\n",
        "\n",
        "print(D)\n",
        "print(E)"
      ]
    },
    {
      "cell_type": "markdown",
      "metadata": {
        "id": "K_k3thRzrdpd"
      },
      "source": [
        "### Matrix multiplication"
      ]
    },
    {
      "cell_type": "code",
      "execution_count": 8,
      "metadata": {
        "colab": {
          "base_uri": "https://localhost:8080/"
        },
        "id": "d1XwpoNaakY2",
        "outputId": "3e056c89-1a9c-4e33-869d-b1490448cfe1"
      },
      "outputs": [
        {
          "output_type": "stream",
          "name": "stdout",
          "text": [
            "tensor([[ -46,  -40],\n",
            "        [-110,  -96]])\n",
            "tensor([[ -46,  -40],\n",
            "        [-110,  -96]])\n",
            "tensor([[ -46,  -40],\n",
            "        [-110,  -96]])\n"
          ]
        }
      ],
      "source": [
        "print(torch.matmul(D, E))\n",
        "print(torch.mm(D, E))\n",
        "print(D @ E)"
      ]
    },
    {
      "cell_type": "markdown",
      "metadata": {
        "id": "TwJki4afrf0m"
      },
      "source": [
        "### Matrix transpose"
      ]
    },
    {
      "cell_type": "code",
      "execution_count": 9,
      "metadata": {
        "colab": {
          "base_uri": "https://localhost:8080/"
        },
        "id": "IumkARr4g3Nv",
        "outputId": "3fabf848-63f9-4aa3-c219-550a5d2dded8"
      },
      "outputs": [
        {
          "output_type": "stream",
          "name": "stdout",
          "text": [
            "tensor([[1, 2],\n",
            "        [3, 4]])\n"
          ]
        },
        {
          "output_type": "execute_result",
          "data": {
            "text/plain": [
              "tensor([[1, 3],\n",
              "        [2, 4]])"
            ]
          },
          "metadata": {},
          "execution_count": 9
        }
      ],
      "source": [
        "print(C)\n",
        "\n",
        "C.t()"
      ]
    },
    {
      "cell_type": "code",
      "execution_count": 10,
      "metadata": {
        "colab": {
          "base_uri": "https://localhost:8080/"
        },
        "id": "ouL0TikpOrBr",
        "outputId": "e855058b-ef52-4869-b63d-c7d0102433b6"
      },
      "outputs": [
        {
          "output_type": "stream",
          "name": "stdout",
          "text": [
            "tensor([[[ 1,  2],\n",
            "         [ 3,  4]],\n",
            "\n",
            "        [[ 5,  6],\n",
            "         [ 7,  8]],\n",
            "\n",
            "        [[-1, -2],\n",
            "         [-3, -4]]])\n"
          ]
        },
        {
          "output_type": "execute_result",
          "data": {
            "text/plain": [
              "tensor([[[ 1,  3],\n",
              "         [ 2,  4]],\n",
              "\n",
              "        [[ 5,  7],\n",
              "         [ 6,  8]],\n",
              "\n",
              "        [[-1, -3],\n",
              "         [-2, -4]]])"
            ]
          },
          "metadata": {},
          "execution_count": 10
        }
      ],
      "source": [
        "I = torch.tensor([[[1, 2], [3, 4]],\n",
        "                  [[5, 6], [7, 8]],\n",
        "                  [[-1, -2], [-3, -4]]])\n",
        "print(I)\n",
        "torch.transpose(I, 1, 2) # สลับแกน 1 กับ 2"
      ]
    },
    {
      "cell_type": "markdown",
      "metadata": {
        "id": "AuwWEOBYcbiL"
      },
      "source": [
        "## Creating a specific type of tensor"
      ]
    },
    {
      "cell_type": "code",
      "execution_count": 11,
      "metadata": {
        "id": "Vg757DJLaoqh"
      },
      "outputs": [],
      "source": [
        "# print(torch.zeros(2,3))\n",
        "# print(torch.ones(2,3))\n",
        "# print(torch.rand(2,3))\n",
        "# print(torch.randn(2,3))  # sample each number from N(0, 1)\n",
        "# print(torch.arange(9))"
      ]
    },
    {
      "cell_type": "code",
      "execution_count": 12,
      "metadata": {
        "colab": {
          "base_uri": "https://localhost:8080/"
        },
        "id": "1AMAcS5zQUPH",
        "outputId": "f1b400f5-18ad-43c2-e8d8-536524df6a90"
      },
      "outputs": [
        {
          "output_type": "execute_result",
          "data": {
            "text/plain": [
              "tensor([[0., 0., 0.],\n",
              "        [0., 0., 0.]])"
            ]
          },
          "metadata": {},
          "execution_count": 12
        }
      ],
      "source": [
        "torch.zeros(2, 3)"
      ]
    },
    {
      "cell_type": "code",
      "execution_count": 13,
      "metadata": {
        "colab": {
          "base_uri": "https://localhost:8080/"
        },
        "id": "Y38n0fTLQizS",
        "outputId": "96b3aba0-e120-4429-c56f-f9ca883fc3a5"
      },
      "outputs": [
        {
          "output_type": "execute_result",
          "data": {
            "text/plain": [
              "tensor([[[1., 1.],\n",
              "         [1., 1.]],\n",
              "\n",
              "        [[1., 1.],\n",
              "         [1., 1.]]])"
            ]
          },
          "metadata": {},
          "execution_count": 13
        }
      ],
      "source": [
        "torch.ones(2, 2, 2)"
      ]
    },
    {
      "cell_type": "code",
      "execution_count": 14,
      "metadata": {
        "colab": {
          "base_uri": "https://localhost:8080/"
        },
        "id": "OrtyOnVdQuAr",
        "outputId": "bb1c1064-e299-4260-aa8c-55d6b303165c"
      },
      "outputs": [
        {
          "output_type": "execute_result",
          "data": {
            "text/plain": [
              "tensor([[0.3938, 0.2085, 0.8305],\n",
              "        [0.1905, 0.6964, 0.0034]])"
            ]
          },
          "metadata": {},
          "execution_count": 14
        }
      ],
      "source": [
        "torch.rand(2, 3)"
      ]
    },
    {
      "cell_type": "code",
      "execution_count": 15,
      "metadata": {
        "colab": {
          "base_uri": "https://localhost:8080/"
        },
        "id": "rT4VYuykRHk6",
        "outputId": "153e197e-4d2f-4a05-a1e3-743d79a0ae19"
      },
      "outputs": [
        {
          "output_type": "execute_result",
          "data": {
            "text/plain": [
              "tensor([[ 0.8755, -0.4071,  1.2259,  0.3346],\n",
              "        [ 1.1570,  2.5167, -1.6099,  0.3983],\n",
              "        [-0.4171, -0.2746,  0.6995, -0.2257]])"
            ]
          },
          "metadata": {},
          "execution_count": 15
        }
      ],
      "source": [
        "torch.randn(3, 4) # มากกว่า 1 หรือ -1 ได้"
      ]
    },
    {
      "cell_type": "code",
      "execution_count": 16,
      "metadata": {
        "colab": {
          "base_uri": "https://localhost:8080/"
        },
        "id": "f1igekqGRWBk",
        "outputId": "1b28b777-6499-4b81-de05-f2ad9ee737a1"
      },
      "outputs": [
        {
          "output_type": "execute_result",
          "data": {
            "text/plain": [
              "tensor([0, 1, 2, 3, 4, 5, 6, 7, 8, 9])"
            ]
          },
          "metadata": {},
          "execution_count": 16
        }
      ],
      "source": [
        "torch.arange(10)"
      ]
    },
    {
      "cell_type": "markdown",
      "metadata": {
        "id": "aUeodCiLrofw"
      },
      "source": [
        "## Tensor's shape"
      ]
    },
    {
      "cell_type": "markdown",
      "metadata": {
        "id": "qJTX5WOHhVsB"
      },
      "source": [
        "### Checking the shape of a tensor"
      ]
    },
    {
      "cell_type": "code",
      "execution_count": 17,
      "metadata": {
        "colab": {
          "base_uri": "https://localhost:8080/"
        },
        "id": "Nzn5Lyqfhcmf",
        "outputId": "2cede70c-8505-450a-c684-dc2522d561e3"
      },
      "outputs": [
        {
          "output_type": "execute_result",
          "data": {
            "text/plain": [
              "torch.Size([2, 4, 5])"
            ]
          },
          "metadata": {},
          "execution_count": 17
        }
      ],
      "source": [
        "F = torch.zeros((2, 4, 5))\n",
        "F.shape"
      ]
    },
    {
      "cell_type": "code",
      "execution_count": 18,
      "metadata": {
        "colab": {
          "base_uri": "https://localhost:8080/"
        },
        "id": "rBMHrWtlRsyk",
        "outputId": "84b99e04-ef29-4f65-f68d-91ec8c837858"
      },
      "outputs": [
        {
          "output_type": "execute_result",
          "data": {
            "text/plain": [
              "4"
            ]
          },
          "metadata": {},
          "execution_count": 18
        }
      ],
      "source": [
        "F.shape[1]"
      ]
    },
    {
      "cell_type": "code",
      "execution_count": 19,
      "metadata": {
        "colab": {
          "base_uri": "https://localhost:8080/"
        },
        "id": "f9ZYEgkVRw1L",
        "outputId": "cbfee861-d43f-461b-a15e-1bac3c42ff42"
      },
      "outputs": [
        {
          "output_type": "execute_result",
          "data": {
            "text/plain": [
              "torch.Size([2, 4, 5])"
            ]
          },
          "metadata": {},
          "execution_count": 19
        }
      ],
      "source": [
        "F.size()"
      ]
    },
    {
      "cell_type": "markdown",
      "metadata": {
        "id": "Vf21H-EvgE87"
      },
      "source": [
        "### Changing the shape of a tensor"
      ]
    },
    {
      "cell_type": "code",
      "execution_count": 20,
      "metadata": {
        "colab": {
          "base_uri": "https://localhost:8080/"
        },
        "id": "o71IJ7_ic1U8",
        "outputId": "8ca5e679-176c-4e10-ed5e-37c3d168cd14"
      },
      "outputs": [
        {
          "output_type": "stream",
          "name": "stdout",
          "text": [
            "torch.Size([6])\n"
          ]
        }
      ],
      "source": [
        "G = torch.arange(6)\n",
        "print(G.shape)"
      ]
    },
    {
      "cell_type": "code",
      "execution_count": 21,
      "metadata": {
        "colab": {
          "base_uri": "https://localhost:8080/"
        },
        "id": "2pOXFoI1SCUS",
        "outputId": "2295a73d-a068-4ff3-87fe-778eb0ecd06e"
      },
      "outputs": [
        {
          "output_type": "execute_result",
          "data": {
            "text/plain": [
              "tensor([[0, 1, 2],\n",
              "        [3, 4, 5]])"
            ]
          },
          "metadata": {},
          "execution_count": 21
        }
      ],
      "source": [
        "G1 = G.reshape(2, 3)\n",
        "G1"
      ]
    },
    {
      "cell_type": "code",
      "execution_count": 22,
      "metadata": {
        "colab": {
          "base_uri": "https://localhost:8080/"
        },
        "id": "XXN_JOvtSQlC",
        "outputId": "b327f63a-f116-4b05-bca8-b0072f48cdfa"
      },
      "outputs": [
        {
          "output_type": "execute_result",
          "data": {
            "text/plain": [
              "tensor([[0, 1, 2],\n",
              "        [3, 4, 5]])"
            ]
          },
          "metadata": {},
          "execution_count": 22
        }
      ],
      "source": [
        "G2 = G.view(2, 3)\n",
        "G2"
      ]
    },
    {
      "cell_type": "markdown",
      "metadata": {
        "id": "7nZgFYT5gd2_"
      },
      "source": [
        "In general, use `reshape`, but if you are worried about the memory usage, use `view`."
      ]
    },
    {
      "cell_type": "markdown",
      "metadata": {
        "id": "uEA3iRzznjNx"
      },
      "source": [
        "### Stacking and concatenating tensors"
      ]
    },
    {
      "cell_type": "code",
      "execution_count": 23,
      "metadata": {
        "colab": {
          "base_uri": "https://localhost:8080/"
        },
        "id": "MQ6JEjsmgbpI",
        "outputId": "2aa5c294-6dd4-4dbf-aa7f-e364a13d7c55"
      },
      "outputs": [
        {
          "output_type": "stream",
          "name": "stdout",
          "text": [
            "tensor([[ 0,  1,  2,  3,  4,  5],\n",
            "        [ 0, -1, -2, -3, -4, -5],\n",
            "        [ 0,  1,  2,  3,  4,  5],\n",
            "        [ 0, -1, -2, -3, -4, -5]])\n",
            "tensor([[ 0,  0,  0,  0],\n",
            "        [ 1, -1,  1, -1],\n",
            "        [ 2, -2,  2, -2],\n",
            "        [ 3, -3,  3, -3],\n",
            "        [ 4, -4,  4, -4],\n",
            "        [ 5, -5,  5, -5]])\n"
          ]
        }
      ],
      "source": [
        "H = torch.arange(6)\n",
        "H1 = -torch.arange(6)\n",
        "I = torch.stack([H, H1, H, H1], axis=0)\n",
        "J = torch.stack([H, H1, H, H1], axis=1)\n",
        "print(I)\n",
        "print(J)"
      ]
    },
    {
      "cell_type": "code",
      "execution_count": 24,
      "metadata": {
        "colab": {
          "base_uri": "https://localhost:8080/"
        },
        "id": "Zkz--DJuXyD1",
        "outputId": "7ad75828-c4cd-4436-969a-5948d76657c7"
      },
      "outputs": [
        {
          "output_type": "stream",
          "name": "stdout",
          "text": [
            "tensor([0, 1, 2, 3, 4, 5, 0, 1, 2, 3, 4, 5, 0, 1, 2, 3, 4, 5, 0, 1, 2, 3, 4, 5])\n",
            "tensor([[1, 2, 1, 2, 1, 2, 1, 2],\n",
            "        [3, 4, 3, 4, 3, 4, 3, 4]])\n"
          ]
        }
      ],
      "source": [
        "# concatenate\n",
        "\n",
        "I = torch.cat([H, H, H, H], axis=0)\n",
        "print(I)\n",
        "H1 = torch.tensor([[1,2], [3,4]])\n",
        "J = torch.cat([H1, H1, H1, H1], axis=1) # มิติเดียว เกิด error\n",
        "print(J)"
      ]
    },
    {
      "cell_type": "markdown",
      "metadata": {
        "id": "eWd_-Ub_pF3b"
      },
      "source": [
        "### Squeezing a tensor (removing an extra dimension)"
      ]
    },
    {
      "cell_type": "code",
      "execution_count": 25,
      "metadata": {
        "colab": {
          "base_uri": "https://localhost:8080/"
        },
        "id": "gf8iDb_PoX_4",
        "outputId": "8fb41882-e93b-4d78-d0d0-3037a8d4390d"
      },
      "outputs": [
        {
          "output_type": "stream",
          "name": "stdout",
          "text": [
            "H= tensor([0, 1, 2, 3, 4, 5])\n",
            "K= tensor([[0, 1, 2, 3, 4, 5]])\n",
            "torch.Size([1, 6])\n"
          ]
        }
      ],
      "source": [
        "# [[1,2]] this is (1,2) tensor, want (2,)\n",
        "print(\"H=\", H) # shape = (6,)\n",
        "K = H.reshape(1,6)\n",
        "print(\"K=\", K)\n",
        "print(K.shape)"
      ]
    },
    {
      "cell_type": "code",
      "execution_count": 26,
      "metadata": {
        "colab": {
          "base_uri": "https://localhost:8080/"
        },
        "id": "Ke3ro96Cp7rT",
        "outputId": "7a50c91a-92d8-4fe4-bb26-a5acc983fa91"
      },
      "outputs": [
        {
          "output_type": "execute_result",
          "data": {
            "text/plain": [
              "tensor([0, 1, 2, 3, 4, 5])"
            ]
          },
          "metadata": {},
          "execution_count": 26
        }
      ],
      "source": [
        "K.squeeze()"
      ]
    },
    {
      "cell_type": "code",
      "execution_count": 27,
      "metadata": {
        "id": "l-C8rB9lUIIS"
      },
      "outputs": [],
      "source": [
        "K1 = K.squeeze()"
      ]
    },
    {
      "cell_type": "code",
      "execution_count": 28,
      "metadata": {
        "colab": {
          "base_uri": "https://localhost:8080/"
        },
        "id": "jvghPMS3ULSy",
        "outputId": "66a4d010-2bba-4449-ec5b-e790d3c10a4c"
      },
      "outputs": [
        {
          "output_type": "execute_result",
          "data": {
            "text/plain": [
              "torch.Size([6])"
            ]
          },
          "metadata": {},
          "execution_count": 28
        }
      ],
      "source": [
        "K1.shape # มิติหาย"
      ]
    },
    {
      "cell_type": "code",
      "execution_count": 29,
      "metadata": {
        "colab": {
          "base_uri": "https://localhost:8080/"
        },
        "id": "7tBCSHtlUa9N",
        "outputId": "e87ba95d-1cd7-44c7-9339-18f4786b081c"
      },
      "outputs": [
        {
          "output_type": "execute_result",
          "data": {
            "text/plain": [
              "tensor([0, 1, 2, 3, 4, 5])"
            ]
          },
          "metadata": {},
          "execution_count": 29
        }
      ],
      "source": [
        "H"
      ]
    },
    {
      "cell_type": "code",
      "execution_count": 30,
      "metadata": {
        "id": "daU4mF2vUclL"
      },
      "outputs": [],
      "source": [
        "H1 = H.unsqueeze(axis=0)"
      ]
    },
    {
      "cell_type": "code",
      "execution_count": 31,
      "metadata": {
        "colab": {
          "base_uri": "https://localhost:8080/"
        },
        "id": "OccChABmUnAE",
        "outputId": "3c9e8755-8c93-4b14-ddac-146d9f63e5c4"
      },
      "outputs": [
        {
          "output_type": "execute_result",
          "data": {
            "text/plain": [
              "torch.Size([1, 6])"
            ]
          },
          "metadata": {},
          "execution_count": 31
        }
      ],
      "source": [
        "H1.shape"
      ]
    },
    {
      "cell_type": "code",
      "execution_count": 32,
      "metadata": {
        "id": "tCdnwdtSUwfl"
      },
      "outputs": [],
      "source": [
        "H2 = H.unsqueeze(axis=1)"
      ]
    },
    {
      "cell_type": "code",
      "execution_count": 33,
      "metadata": {
        "colab": {
          "base_uri": "https://localhost:8080/"
        },
        "id": "LSWp8llsU3_U",
        "outputId": "a3278be0-8013-459e-f01b-29a9bc6433d4"
      },
      "outputs": [
        {
          "output_type": "execute_result",
          "data": {
            "text/plain": [
              "torch.Size([6, 1])"
            ]
          },
          "metadata": {},
          "execution_count": 33
        }
      ],
      "source": [
        "H2.shape # เพิ่มแกนที่ 1 มาอีกแถว"
      ]
    },
    {
      "cell_type": "code",
      "execution_count": 34,
      "metadata": {
        "colab": {
          "base_uri": "https://localhost:8080/"
        },
        "id": "DJxWfoyOqaQs",
        "outputId": "bdc57f51-8a27-42cc-91b6-df620704a3b2"
      },
      "outputs": [
        {
          "output_type": "stream",
          "name": "stdout",
          "text": [
            "tensor([[0, 1, 2, 3, 4, 5]])\n",
            "tensor([[0],\n",
            "        [1],\n",
            "        [2],\n",
            "        [3],\n",
            "        [4],\n",
            "        [5]])\n"
          ]
        }
      ],
      "source": [
        "# H.shape = (6, )\n",
        "L = H.unsqueeze(axis=0)  # L.shape(1, 6)\n",
        "M = H.unsqueeze(axis=1)  # L.shape(6, 1)\n",
        "print(L)\n",
        "print(M)"
      ]
    },
    {
      "cell_type": "markdown",
      "metadata": {
        "id": "bfaM--ZlsUsB"
      },
      "source": [
        "## Indexing"
      ]
    },
    {
      "cell_type": "code",
      "execution_count": 35,
      "metadata": {
        "colab": {
          "base_uri": "https://localhost:8080/"
        },
        "id": "fPqsnD8qsWsH",
        "outputId": "0da5ccf6-f424-47ad-9bb2-fd5ccc0942e6"
      },
      "outputs": [
        {
          "output_type": "stream",
          "name": "stdout",
          "text": [
            "tensor([[ 0,  1,  2,  3],\n",
            "        [ 4,  5,  6,  7],\n",
            "        [ 8,  9, 10, 11]])\n",
            "tensor([0, 1, 2, 3])\n",
            "tensor([0, 4, 8])\n",
            "tensor([ 8,  9, 10, 11])\n",
            "tensor([ 3,  7, 11])\n",
            "tensor([[ 4,  5,  6,  7],\n",
            "        [ 8,  9, 10, 11]])\n",
            "tensor([[ 2,  3],\n",
            "        [ 6,  7],\n",
            "        [10, 11]])\n"
          ]
        }
      ],
      "source": [
        "P = torch.arange(12).reshape(3,4)\n",
        "print(P)\n",
        "print(P[0])\n",
        "print(P[:, 0])\n",
        "print(P[-1])\n",
        "print(P[:, -1])\n",
        "print(P[-2:])\n",
        "print(P[:, -2:])"
      ]
    },
    {
      "cell_type": "markdown",
      "metadata": {
        "id": "ftVXJ-3ur9yk"
      },
      "source": [
        "## PyTorch and GPU"
      ]
    },
    {
      "cell_type": "markdown",
      "metadata": {
        "id": "2TmzZR23sKOW"
      },
      "source": [
        "check if GPU is available"
      ]
    },
    {
      "cell_type": "code",
      "execution_count": 36,
      "metadata": {
        "colab": {
          "base_uri": "https://localhost:8080/"
        },
        "id": "TSiXGmqrqyzw",
        "outputId": "b5510517-4220-418e-8ba4-d33c31907556"
      },
      "outputs": [
        {
          "output_type": "execute_result",
          "data": {
            "text/plain": [
              "True"
            ]
          },
          "metadata": {},
          "execution_count": 36
        }
      ],
      "source": [
        "torch.cuda.is_available()"
      ]
    },
    {
      "cell_type": "code",
      "execution_count": 37,
      "metadata": {
        "colab": {
          "base_uri": "https://localhost:8080/"
        },
        "id": "wjDt08_7sMxz",
        "outputId": "a77c6c02-e707-4015-95a7-19d93929d8d0"
      },
      "outputs": [
        {
          "output_type": "stream",
          "name": "stdout",
          "text": [
            "cpu\n"
          ]
        }
      ],
      "source": [
        "Q = torch.tensor([1, 2, 3])\n",
        "print(Q.device)"
      ]
    },
    {
      "cell_type": "code",
      "execution_count": 38,
      "metadata": {
        "colab": {
          "base_uri": "https://localhost:8080/"
        },
        "id": "7BitUf-RtdG3",
        "outputId": "d9d9fa1f-4485-41e9-d558-99ae16023e8a"
      },
      "outputs": [
        {
          "output_type": "execute_result",
          "data": {
            "text/plain": [
              "device(type='cuda', index=0)"
            ]
          },
          "metadata": {},
          "execution_count": 38
        }
      ],
      "source": [
        "R = Q.to('cuda')\n",
        "\n",
        "R.device"
      ]
    },
    {
      "cell_type": "code",
      "execution_count": 39,
      "metadata": {
        "colab": {
          "base_uri": "https://localhost:8080/"
        },
        "id": "83_ynlIaWMMF",
        "outputId": "632ebb73-34e1-49ce-a156-0cdebbbb1d59"
      },
      "outputs": [
        {
          "output_type": "execute_result",
          "data": {
            "text/plain": [
              "device(type='cuda', index=0)"
            ]
          },
          "metadata": {},
          "execution_count": 39
        }
      ],
      "source": [
        "R1 = Q.cuda()\n",
        "\n",
        "R1.device"
      ]
    },
    {
      "cell_type": "markdown",
      "metadata": {
        "id": "aZBZ3f66AFye"
      },
      "source": [
        "# Exercise\n",
        "\n",
        "In this exercise, we will simulate data to perform linear regression with 200 rows and 7 variables.\n",
        "\n",
        "1. Create three random $N(0,1)$ tensors: `X`, `b` and `e` with `X.shape = (200, 7)`, `b.shape = (8, 1)` and `e.shape = (200, 1)` respectively.\n",
        "2. Create a tensor that contains only 1's with shape `(200, 1)`.\n",
        "3. Modify tensor `X` by adding the tensor in 2. as the first column.\n",
        "4. Compute `y` using the following formula:\n",
        "$$ y = Xb + e $$.\n",
        "5. Fit a linear regression to the data `X` and `y` and obtain a tensor of estimated coefficient `b_hat`. The formula for `b_hat` is given by:\n",
        "$$ \\hat{b} = (X^TX)^{-1}X^Ty $$\n",
        "Note: use `torch.inverse(...)` to calculate the inverse\n",
        "6. Compute the predictions `y_hat`, given by:\n",
        "$$ \\hat{y} = X\\hat{b} $$\n",
        "7. Convert both `y` and `y_hat` from tensor to Numpy array and calculate MSE:\n",
        "$$ MSE = \\frac{1}{200}\\sum_{i=1}^{200} (y_i - \\hat{y}_i)^2 $$"
      ]
    },
    {
      "cell_type": "code",
      "execution_count": 40,
      "metadata": {
        "colab": {
          "base_uri": "https://localhost:8080/"
        },
        "id": "eQOsf3B_QnvN",
        "outputId": "cb20b3b8-5ce2-4b97-dbf2-891768ca9d82"
      },
      "outputs": [
        {
          "output_type": "stream",
          "name": "stdout",
          "text": [
            "tensor([[2, 3, 2],\n",
            "        [4, 6, 7],\n",
            "        [7, 2, 4]])\n",
            "tensor([[1, 2, 3, 2],\n",
            "        [1, 4, 6, 7],\n",
            "        [1, 7, 2, 4]])\n"
          ]
        }
      ],
      "source": [
        "X = torch.tensor([[2, 3, 2], [4, 6, 7], [7, 2, 4]])\n",
        "print(X)\n",
        "\n",
        "X = torch.tensor([[1, 2, 3, 2], [1, 4, 6, 7], [1, 7, 2, 4]])\n",
        "print(X)"
      ]
    },
    {
      "cell_type": "code",
      "execution_count": 41,
      "metadata": {
        "id": "cTgJc7zjKxaY"
      },
      "outputs": [],
      "source": [
        "# 1. Create random tensors X, b, and e\n",
        "X = torch.randn(200, 7)\n",
        "b = torch.randn(8, 1)\n",
        "e = torch.randn(200, 1)"
      ]
    },
    {
      "cell_type": "code",
      "execution_count": 42,
      "metadata": {
        "id": "2wc1_i8kK0-X"
      },
      "outputs": [],
      "source": [
        "# 2. Create a tensor of ones\n",
        "ones = torch.ones(200, 1)"
      ]
    },
    {
      "cell_type": "code",
      "execution_count": 43,
      "metadata": {
        "id": "viNuBudKLNJ6"
      },
      "outputs": [],
      "source": [
        "# 3. Modify tensor X by adding the tensor in 2. as the first column.\n",
        "X = torch.cat([ones, X], axis=1)"
      ]
    },
    {
      "cell_type": "code",
      "execution_count": 44,
      "metadata": {
        "id": "VNhtZQVMLmD5"
      },
      "outputs": [],
      "source": [
        "# 4. Compute y\n",
        "y = torch.matmul(X, b) + e"
      ]
    },
    {
      "cell_type": "code",
      "execution_count": 45,
      "metadata": {
        "id": "2l6H5HdyLwGe"
      },
      "outputs": [],
      "source": [
        "# 5. Fit a linear regression and obtain b_hat\n",
        "X_tranp = X.t()\n",
        "X_tranp_X = torch.matmul(X_tranp, X)\n",
        "X_tranp_X_inv = torch.inverse(X_tranp_X)\n",
        "X_tranp_y = torch.matmul(X_tranp, y)\n",
        "\n",
        "b_hat = torch.matmul(X_tranp_X_inv, X_tranp_y)"
      ]
    },
    {
      "cell_type": "code",
      "execution_count": 46,
      "metadata": {
        "id": "ElmxwHn9MUWj"
      },
      "outputs": [],
      "source": [
        "# 6. Compute the predictions y_hat\n",
        "y_hat = torch.matmul(X, b_hat)"
      ]
    },
    {
      "cell_type": "code",
      "execution_count": 48,
      "metadata": {
        "colab": {
          "base_uri": "https://localhost:8080/"
        },
        "id": "Qv7IpHxiMZNN",
        "outputId": "09089381-18c8-441f-b280-280905ece659"
      },
      "outputs": [
        {
          "output_type": "stream",
          "name": "stdout",
          "text": [
            "Estimated coefficients (b_hat):\n",
            "tensor([[-0.4513],\n",
            "        [ 0.0577],\n",
            "        [-1.5410],\n",
            "        [ 0.6695],\n",
            "        [ 0.2420],\n",
            "        [ 0.1487],\n",
            "        [ 0.0813],\n",
            "        [ 1.4115]])\n",
            "\n",
            "Mean Squared Error (MSE): 0.96874243\n"
          ]
        }
      ],
      "source": [
        "# 7. Convert both y and y_hat from tensor to Numpy array and calculate MSE:\n",
        "y_np = y.numpy()\n",
        "y_hat_np = y_hat.numpy()\n",
        "\n",
        "MSE = np.mean((y_np - y_hat_np)**2)\n",
        "\n",
        "print(\"Estimated coefficients (b_hat):\")\n",
        "print(b_hat)\n",
        "print(\"\\nMean Squared Error (MSE):\", (MSE))"
      ]
    }
  ],
  "metadata": {
    "accelerator": "GPU",
    "colab": {
      "gpuType": "T4",
      "provenance": [],
      "include_colab_link": true
    },
    "kernelspec": {
      "display_name": "Python 3",
      "name": "python3"
    },
    "language_info": {
      "codemirror_mode": {
        "name": "ipython",
        "version": 3
      },
      "file_extension": ".py",
      "mimetype": "text/x-python",
      "name": "python",
      "nbconvert_exporter": "python",
      "pygments_lexer": "ipython3",
      "version": "3.10.12"
    }
  },
  "nbformat": 4,
  "nbformat_minor": 0
}